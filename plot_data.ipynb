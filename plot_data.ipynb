{
 "cells": [
  {
   "cell_type": "code",
   "execution_count": 2,
   "metadata": {},
   "outputs": [],
   "source": [
    "import pandas as pd\n",
    "import numpy as np\n",
    "import matplotlib.pyplot as plt"
   ]
  },
  {
   "cell_type": "code",
   "execution_count": 5,
   "metadata": {},
   "outputs": [
    {
     "data": {
      "text/html": [
       "<div>\n",
       "<style scoped>\n",
       "    .dataframe tbody tr th:only-of-type {\n",
       "        vertical-align: middle;\n",
       "    }\n",
       "\n",
       "    .dataframe tbody tr th {\n",
       "        vertical-align: top;\n",
       "    }\n",
       "\n",
       "    .dataframe thead th {\n",
       "        text-align: right;\n",
       "    }\n",
       "</style>\n",
       "<table border=\"1\" class=\"dataframe\">\n",
       "  <thead>\n",
       "    <tr style=\"text-align: right;\">\n",
       "      <th></th>\n",
       "      <th>timestamp</th>\n",
       "      <th>running</th>\n",
       "      <th>cycle_count</th>\n",
       "      <th>source_voltage</th>\n",
       "      <th>current1</th>\n",
       "      <th>current2</th>\n",
       "      <th>button</th>\n",
       "      <th>micros_on</th>\n",
       "      <th>micros_off</th>\n",
       "    </tr>\n",
       "  </thead>\n",
       "  <tbody>\n",
       "    <tr>\n",
       "      <th>0</th>\n",
       "      <td>1.605898e+12</td>\n",
       "      <td>0</td>\n",
       "      <td>1000</td>\n",
       "      <td>1.096361</td>\n",
       "      <td>-0.072464</td>\n",
       "      <td>0.036214</td>\n",
       "      <td>0</td>\n",
       "      <td>1000</td>\n",
       "      <td>9000</td>\n",
       "    </tr>\n",
       "    <tr>\n",
       "      <th>1</th>\n",
       "      <td>1.605898e+12</td>\n",
       "      <td>0</td>\n",
       "      <td>1000</td>\n",
       "      <td>1.096361</td>\n",
       "      <td>-0.014502</td>\n",
       "      <td>-0.028993</td>\n",
       "      <td>0</td>\n",
       "      <td>1000</td>\n",
       "      <td>9000</td>\n",
       "    </tr>\n",
       "    <tr>\n",
       "      <th>2</th>\n",
       "      <td>1.605898e+12</td>\n",
       "      <td>0</td>\n",
       "      <td>1000</td>\n",
       "      <td>1.097851</td>\n",
       "      <td>-0.014502</td>\n",
       "      <td>-0.007257</td>\n",
       "      <td>0</td>\n",
       "      <td>1000</td>\n",
       "      <td>9000</td>\n",
       "    </tr>\n",
       "    <tr>\n",
       "      <th>3</th>\n",
       "      <td>1.605898e+12</td>\n",
       "      <td>0</td>\n",
       "      <td>1000</td>\n",
       "      <td>1.097851</td>\n",
       "      <td>-0.065219</td>\n",
       "      <td>-0.065219</td>\n",
       "      <td>0</td>\n",
       "      <td>1000</td>\n",
       "      <td>9000</td>\n",
       "    </tr>\n",
       "    <tr>\n",
       "      <th>4</th>\n",
       "      <td>1.605898e+12</td>\n",
       "      <td>0</td>\n",
       "      <td>1000</td>\n",
       "      <td>1.096361</td>\n",
       "      <td>-0.007257</td>\n",
       "      <td>-0.007257</td>\n",
       "      <td>0</td>\n",
       "      <td>1000</td>\n",
       "      <td>9000</td>\n",
       "    </tr>\n",
       "    <tr>\n",
       "      <th>...</th>\n",
       "      <td>...</td>\n",
       "      <td>...</td>\n",
       "      <td>...</td>\n",
       "      <td>...</td>\n",
       "      <td>...</td>\n",
       "      <td>...</td>\n",
       "      <td>...</td>\n",
       "      <td>...</td>\n",
       "      <td>...</td>\n",
       "    </tr>\n",
       "    <tr>\n",
       "      <th>2496</th>\n",
       "      <td>1.605898e+12</td>\n",
       "      <td>0</td>\n",
       "      <td>1000</td>\n",
       "      <td>1.097851</td>\n",
       "      <td>-0.050728</td>\n",
       "      <td>-0.072464</td>\n",
       "      <td>0</td>\n",
       "      <td>1000</td>\n",
       "      <td>9000</td>\n",
       "    </tr>\n",
       "    <tr>\n",
       "      <th>2497</th>\n",
       "      <td>1.605898e+12</td>\n",
       "      <td>0</td>\n",
       "      <td>1000</td>\n",
       "      <td>1.094872</td>\n",
       "      <td>-0.028993</td>\n",
       "      <td>-0.036238</td>\n",
       "      <td>0</td>\n",
       "      <td>1000</td>\n",
       "      <td>9000</td>\n",
       "    </tr>\n",
       "    <tr>\n",
       "      <th>2498</th>\n",
       "      <td>1.605898e+12</td>\n",
       "      <td>0</td>\n",
       "      <td>1000</td>\n",
       "      <td>1.094872</td>\n",
       "      <td>-0.086954</td>\n",
       "      <td>-0.079709</td>\n",
       "      <td>0</td>\n",
       "      <td>1000</td>\n",
       "      <td>9000</td>\n",
       "    </tr>\n",
       "    <tr>\n",
       "      <th>2499</th>\n",
       "      <td>1.605898e+12</td>\n",
       "      <td>0</td>\n",
       "      <td>1000</td>\n",
       "      <td>1.096361</td>\n",
       "      <td>-0.043483</td>\n",
       "      <td>0.007233</td>\n",
       "      <td>0</td>\n",
       "      <td>1000</td>\n",
       "      <td>9000</td>\n",
       "    </tr>\n",
       "    <tr>\n",
       "      <th>2500</th>\n",
       "      <td>1.605898e+12</td>\n",
       "      <td>0</td>\n",
       "      <td>1000</td>\n",
       "      <td>1.096361</td>\n",
       "      <td>-0.043483</td>\n",
       "      <td>-0.050728</td>\n",
       "      <td>0</td>\n",
       "      <td>1000</td>\n",
       "      <td>9000</td>\n",
       "    </tr>\n",
       "  </tbody>\n",
       "</table>\n",
       "<p>2501 rows × 9 columns</p>\n",
       "</div>"
      ],
      "text/plain": [
       "         timestamp  running  cycle_count  source_voltage  current1  current2  \\\n",
       "0     1.605898e+12        0         1000        1.096361 -0.072464  0.036214   \n",
       "1     1.605898e+12        0         1000        1.096361 -0.014502 -0.028993   \n",
       "2     1.605898e+12        0         1000        1.097851 -0.014502 -0.007257   \n",
       "3     1.605898e+12        0         1000        1.097851 -0.065219 -0.065219   \n",
       "4     1.605898e+12        0         1000        1.096361 -0.007257 -0.007257   \n",
       "...            ...      ...          ...             ...       ...       ...   \n",
       "2496  1.605898e+12        0         1000        1.097851 -0.050728 -0.072464   \n",
       "2497  1.605898e+12        0         1000        1.094872 -0.028993 -0.036238   \n",
       "2498  1.605898e+12        0         1000        1.094872 -0.086954 -0.079709   \n",
       "2499  1.605898e+12        0         1000        1.096361 -0.043483  0.007233   \n",
       "2500  1.605898e+12        0         1000        1.096361 -0.043483 -0.050728   \n",
       "\n",
       "      button  micros_on  micros_off  \n",
       "0          0       1000        9000  \n",
       "1          0       1000        9000  \n",
       "2          0       1000        9000  \n",
       "3          0       1000        9000  \n",
       "4          0       1000        9000  \n",
       "...      ...        ...         ...  \n",
       "2496       0       1000        9000  \n",
       "2497       0       1000        9000  \n",
       "2498       0       1000        9000  \n",
       "2499       0       1000        9000  \n",
       "2500       0       1000        9000  \n",
       "\n",
       "[2501 rows x 9 columns]"
      ]
     },
     "execution_count": 5,
     "metadata": {},
     "output_type": "execute_result"
    }
   ],
   "source": [
    "df = pd.read_csv('output/test.csv')\n",
    "# df['timestamp'] = pd.to_datetime(df['timestamp'], unit='s')\n",
    "df['timestamp'] = df['timestamp'] * 1000\n",
    "df"
   ]
  },
  {
   "cell_type": "code",
   "execution_count": 8,
   "metadata": {},
   "outputs": [
    {
     "data": {
      "image/png": "[encoded data removed]",
      "text/plain": [
       "<Figure size 504x288 with 1 Axes>"
      ]
     },
     "metadata": {
      "needs_background": "light"
     },
     "output_type": "display_data"
    }
   ],
   "source": [
    "plt.figure(figsize=(7,4))\n",
    "plt.plot((df['timestamp'] - df['timestamp'].iloc[0]).iloc[0:500], df['current2'].iloc[0:500])\n",
    "plt.xlabel('Time delta (milliseconds)')\n",
    "plt.ylabel('Current reading (amps)')\n",
    "plt.title('Current sensor readings at 0A')\n",
    "plt.savefig('current_output.png')\n",
    "plt.show()"
   ]
  },
  {
   "cell_type": "code",
   "execution_count": 9,
   "metadata": {},
   "outputs": [
    {
     "name": "stdout",
     "output_type": "stream",
     "text": [
      "mean current1 value: -0.05327480967612955\n",
      "mean current2 value: -0.029870534586165537\n"
     ]
    }
   ],
   "source": [
    "print(f\"mean current1 value: {df['current1'].mean()}\")\n",
    "print(f\"mean current2 value: {df['current2'].mean()}\")"
   ]
  },
  {
   "cell_type": "code",
   "execution_count": 82,
   "metadata": {},
   "outputs": [
    {
     "name": "stdout",
     "output_type": "stream",
     "text": [
      "0.10513767506497577\n",
      "0.10204088718064856\n"
     ]
    }
   ],
   "source": [
    "print(df['current2'].std())\n",
    "print(df['current1'].std())"
   ]
  },
  {
   "cell_type": "code",
   "execution_count": 7,
   "metadata": {},
   "outputs": [
    {
     "data": {
      "text/plain": [
       "[<matplotlib.lines.Line2D at 0x11cc7f880>]"
      ]
     },
     "execution_count": 7,
     "metadata": {},
     "output_type": "execute_result"
    },
    {
     "data": {
      "image/png": "[encoded data removed]",
      "text/plain": [
       "<Figure size 432x288 with 1 Axes>"
      ]
     },
     "metadata": {
      "needs_background": "light"
     },
     "output_type": "display_data"
    }
   ],
   "source": [
    "plt.plot(df['cycle_count'])"
   ]
  },
  {
   "cell_type": "code",
   "execution_count": null,
   "metadata": {},
   "outputs": [],
   "source": []
  }
 ],
 "metadata": {
  "kernelspec": {
   "display_name": "Python 3",
   "language": "python",
   "name": "python3"
  },
  "language_info": {
   "codemirror_mode": {
    "name": "ipython",
    "version": 3
   },
   "file_extension": ".py",
   "mimetype": "text/x-python",
   "name": "python",
   "nbconvert_exporter": "python",
   "pygments_lexer": "ipython3",
   "version": "3.8.2"
  }
 },
 "nbformat": 4,
 "nbformat_minor": 4
}
